{
  "nbformat": 4,
  "nbformat_minor": 0,
  "metadata": {
    "colab": {
      "name": "Dictionary.ipynb",
      "provenance": [],
      "collapsed_sections": []
    },
    "kernelspec": {
      "name": "python3",
      "display_name": "Python 3"
    },
    "language_info": {
      "name": "python"
    }
  },
  "cells": [
    {
      "cell_type": "markdown",
      "source": [
        "#Create Dictionary"
      ],
      "metadata": {
        "id": "eVc70xbtOJmS"
      }
    },
    {
      "cell_type": "code",
      "execution_count": null,
      "metadata": {
        "colab": {
          "base_uri": "https://localhost:8080/"
        },
        "id": "w2awExzOHh5h",
        "outputId": "9bbed3fa-22c1-46e7-b192-830206a156f5"
      },
      "outputs": [
        {
          "output_type": "stream",
          "name": "stdout",
          "text": [
            "{}\n"
          ]
        }
      ],
      "source": [
        "my_di = {}\n",
        "print(my_di)"
      ]
    },
    {
      "cell_type": "code",
      "source": [
        "my_di2 = {1:'cat',2:'dog'}\n",
        "print(my_di2)"
      ],
      "metadata": {
        "colab": {
          "base_uri": "https://localhost:8080/"
        },
        "id": "UTMzr-a_gb3B",
        "outputId": "c568dfe3-0ecc-4d0a-8d58-43d187b33652"
      },
      "execution_count": null,
      "outputs": [
        {
          "output_type": "stream",
          "name": "stdout",
          "text": [
            "{1: 'cat', 2: 'dog'}\n"
          ]
        }
      ]
    },
    {
      "cell_type": "code",
      "source": [
        "my_di3 = {\"greet\":\"good morning\", 1:[3,4,5,6]}\n",
        "print(my_di3)"
      ],
      "metadata": {
        "colab": {
          "base_uri": "https://localhost:8080/"
        },
        "id": "tXZZze_kgvbQ",
        "outputId": "60305d88-bc01-46cd-d90a-917b4b779a87"
      },
      "execution_count": null,
      "outputs": [
        {
          "output_type": "stream",
          "name": "stdout",
          "text": [
            "{'greet': 'good morning', 1: [3, 4, 5, 6]}\n"
          ]
        }
      ]
    },
    {
      "cell_type": "markdown",
      "source": [
        "#Grab Elements"
      ],
      "metadata": {
        "id": "xdlS8iylOSSo"
      }
    },
    {
      "cell_type": "code",
      "source": [
        "print(my_di3['greet'])"
      ],
      "metadata": {
        "colab": {
          "base_uri": "https://localhost:8080/"
        },
        "id": "58dvvfw9hJF4",
        "outputId": "ea904cef-8ead-425d-b262-d02b2554f439"
      },
      "execution_count": null,
      "outputs": [
        {
          "output_type": "stream",
          "name": "stdout",
          "text": [
            "good morning\n"
          ]
        }
      ]
    },
    {
      "cell_type": "markdown",
      "source": [
        "#Add New Elements"
      ],
      "metadata": {
        "id": "YPK-chiaOY1R"
      }
    },
    {
      "cell_type": "code",
      "source": [
        "my_di3['greet'] = \"hi\""
      ],
      "metadata": {
        "id": "wLwVpbeahfdj"
      },
      "execution_count": null,
      "outputs": []
    },
    {
      "cell_type": "code",
      "source": [
        "print(my_di3)"
      ],
      "metadata": {
        "colab": {
          "base_uri": "https://localhost:8080/"
        },
        "id": "9qDi1dE0h39x",
        "outputId": "83020bd0-7586-4370-ad8c-12be169a79ea"
      },
      "execution_count": null,
      "outputs": [
        {
          "output_type": "stream",
          "name": "stdout",
          "text": [
            "{'greet': 'hi', 1: [3, 4, 5, 6]}\n"
          ]
        }
      ]
    },
    {
      "cell_type": "code",
      "source": [
        "my_di3['greet2'] = 'hello'"
      ],
      "metadata": {
        "id": "KY6iAZg3h7Oz"
      },
      "execution_count": null,
      "outputs": []
    },
    {
      "cell_type": "code",
      "source": [
        "print(my_di3)"
      ],
      "metadata": {
        "colab": {
          "base_uri": "https://localhost:8080/"
        },
        "id": "fs_dU6k4iVY_",
        "outputId": "0114f072-22b3-4aba-96b8-ae7dd6f8a36e"
      },
      "execution_count": null,
      "outputs": [
        {
          "output_type": "stream",
          "name": "stdout",
          "text": [
            "{'greet': 'hi', 1: [3, 4, 5, 6], 'greet2': 'hello'}\n"
          ]
        }
      ]
    },
    {
      "cell_type": "markdown",
      "source": [
        "#Remove Elements"
      ],
      "metadata": {
        "id": "mjbfCUWQOcm9"
      }
    },
    {
      "cell_type": "code",
      "source": [
        "print(my_di3.pop('greet2'))"
      ],
      "metadata": {
        "colab": {
          "base_uri": "https://localhost:8080/"
        },
        "id": "ytV36mN_iZvR",
        "outputId": "9b8ee92c-5223-48c6-9ed1-b2899dd1e9c8"
      },
      "execution_count": null,
      "outputs": [
        {
          "output_type": "stream",
          "name": "stdout",
          "text": [
            "hello\n"
          ]
        }
      ]
    },
    {
      "cell_type": "code",
      "source": [
        "print(my_di3)"
      ],
      "metadata": {
        "colab": {
          "base_uri": "https://localhost:8080/"
        },
        "id": "jeRMI2jQizRq",
        "outputId": "55e9a1de-6e26-4f74-9343-43d1d2685f57"
      },
      "execution_count": null,
      "outputs": [
        {
          "output_type": "stream",
          "name": "stdout",
          "text": [
            "{'greet': 'hi', 1: [3, 4, 5, 6]}\n"
          ]
        }
      ]
    }
  ]
}