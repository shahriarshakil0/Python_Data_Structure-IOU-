{
  "nbformat": 4,
  "nbformat_minor": 0,
  "metadata": {
    "colab": {
      "name": "Numeric Operations.ipynb",
      "provenance": [],
      "collapsed_sections": []
    },
    "kernelspec": {
      "name": "python3",
      "display_name": "Python 3"
    },
    "language_info": {
      "name": "python"
    }
  },
  "cells": [
    {
      "cell_type": "markdown",
      "source": [
        "#Addition"
      ],
      "metadata": {
        "id": "_nM1pb6DSDEQ"
      }
    },
    {
      "cell_type": "code",
      "execution_count": 3,
      "metadata": {
        "colab": {
          "base_uri": "https://localhost:8080/"
        },
        "id": "YPgrA0JwRupA",
        "outputId": "98a0a04d-a9cf-452c-959b-2bdab10af21d"
      },
      "outputs": [
        {
          "output_type": "execute_result",
          "data": {
            "text/plain": [
              "10"
            ]
          },
          "metadata": {},
          "execution_count": 3
        }
      ],
      "source": [
        "5+5"
      ]
    },
    {
      "cell_type": "markdown",
      "source": [
        "#Subtraction"
      ],
      "metadata": {
        "id": "oyZEmz4-STbu"
      }
    },
    {
      "cell_type": "code",
      "source": [
        "10-2"
      ],
      "metadata": {
        "colab": {
          "base_uri": "https://localhost:8080/"
        },
        "id": "z0sE7uvCSRKW",
        "outputId": "10131dbc-2bca-4039-efab-97b68c9bbe96"
      },
      "execution_count": 4,
      "outputs": [
        {
          "output_type": "execute_result",
          "data": {
            "text/plain": [
              "8"
            ]
          },
          "metadata": {},
          "execution_count": 4
        }
      ]
    },
    {
      "cell_type": "markdown",
      "source": [
        "#Multiplication"
      ],
      "metadata": {
        "id": "-KtVUVyiSZW9"
      }
    },
    {
      "cell_type": "code",
      "source": [
        "7*3"
      ],
      "metadata": {
        "colab": {
          "base_uri": "https://localhost:8080/"
        },
        "id": "Zph_d4I_SX4U",
        "outputId": "926fccaf-fec9-42f0-fe0a-18d53464da61"
      },
      "execution_count": 5,
      "outputs": [
        {
          "output_type": "execute_result",
          "data": {
            "text/plain": [
              "21"
            ]
          },
          "metadata": {},
          "execution_count": 5
        }
      ]
    },
    {
      "cell_type": "markdown",
      "source": [
        "#Divition"
      ],
      "metadata": {
        "id": "7Ng3VoQESgcG"
      }
    },
    {
      "cell_type": "code",
      "source": [
        "10/2"
      ],
      "metadata": {
        "colab": {
          "base_uri": "https://localhost:8080/"
        },
        "id": "x3nEp8JNSe6v",
        "outputId": "b6b7db7f-b1d6-45a7-b546-e8bc91b4e704"
      },
      "execution_count": 6,
      "outputs": [
        {
          "output_type": "execute_result",
          "data": {
            "text/plain": [
              "5.0"
            ]
          },
          "metadata": {},
          "execution_count": 6
        }
      ]
    },
    {
      "cell_type": "markdown",
      "source": [
        "#Power"
      ],
      "metadata": {
        "id": "cdY-I-rvSoed"
      }
    },
    {
      "cell_type": "code",
      "source": [
        "2**3"
      ],
      "metadata": {
        "colab": {
          "base_uri": "https://localhost:8080/"
        },
        "id": "nhy42Sw9Sk1a",
        "outputId": "5751186e-88df-4dd1-a509-d7ba0db3f0d9"
      },
      "execution_count": 7,
      "outputs": [
        {
          "output_type": "execute_result",
          "data": {
            "text/plain": [
              "8"
            ]
          },
          "metadata": {},
          "execution_count": 7
        }
      ]
    },
    {
      "cell_type": "markdown",
      "source": [
        "#Root"
      ],
      "metadata": {
        "id": "5ZTETj9PS2dR"
      }
    },
    {
      "cell_type": "code",
      "source": [
        "4**0.5"
      ],
      "metadata": {
        "colab": {
          "base_uri": "https://localhost:8080/"
        },
        "id": "k2vjfvoqS01i",
        "outputId": "ab04d7f5-68ee-46c1-94f2-68e015f12d35"
      },
      "execution_count": 8,
      "outputs": [
        {
          "output_type": "execute_result",
          "data": {
            "text/plain": [
              "2.0"
            ]
          },
          "metadata": {},
          "execution_count": 8
        }
      ]
    },
    {
      "cell_type": "code",
      "source": [
        "2+10*10+3"
      ],
      "metadata": {
        "colab": {
          "base_uri": "https://localhost:8080/"
        },
        "id": "j0B_fUAyS9Vr",
        "outputId": "60f1df8d-8541-408b-ca90-d4c838787b30"
      },
      "execution_count": 9,
      "outputs": [
        {
          "output_type": "execute_result",
          "data": {
            "text/plain": [
              "105"
            ]
          },
          "metadata": {},
          "execution_count": 9
        }
      ]
    },
    {
      "cell_type": "code",
      "source": [
        "(2+10)*(10+3)"
      ],
      "metadata": {
        "colab": {
          "base_uri": "https://localhost:8080/"
        },
        "id": "XRonMHCATE3S",
        "outputId": "0b9b6681-f5e9-41d0-ecd3-8044842be7c2"
      },
      "execution_count": 10,
      "outputs": [
        {
          "output_type": "execute_result",
          "data": {
            "text/plain": [
              "156"
            ]
          },
          "metadata": {},
          "execution_count": 10
        }
      ]
    }
  ]
}