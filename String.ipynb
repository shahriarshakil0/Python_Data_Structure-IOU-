{
  "nbformat": 4,
  "nbformat_minor": 0,
  "metadata": {
    "colab": {
      "name": "String.ipynb",
      "provenance": [],
      "collapsed_sections": []
    },
    "kernelspec": {
      "name": "python3",
      "display_name": "Python 3"
    },
    "language_info": {
      "name": "python"
    }
  },
  "cells": [
    {
      "cell_type": "markdown",
      "source": [
        "#Declare String"
      ],
      "metadata": {
        "id": "XYmqxHnIM7vo"
      }
    },
    {
      "cell_type": "code",
      "source": [
        "my_str = \"hello world\""
      ],
      "metadata": {
        "id": "E4FgoTtmuR4E"
      },
      "execution_count": null,
      "outputs": []
    },
    {
      "cell_type": "code",
      "source": [
        "print(type(my_str))"
      ],
      "metadata": {
        "colab": {
          "base_uri": "https://localhost:8080/"
        },
        "id": "XshwuTxo2qyE",
        "outputId": "5b8f4613-6ca5-4e60-ff3b-750422c7149b"
      },
      "execution_count": null,
      "outputs": [
        {
          "output_type": "stream",
          "name": "stdout",
          "text": [
            "<class 'str'>\n"
          ]
        }
      ]
    },
    {
      "cell_type": "code",
      "source": [
        "print(my_str)"
      ],
      "metadata": {
        "colab": {
          "base_uri": "https://localhost:8080/"
        },
        "id": "-_617ID722KK",
        "outputId": "d5b08a3e-14a8-4978-cc01-137cb0f09d31"
      },
      "execution_count": null,
      "outputs": [
        {
          "output_type": "stream",
          "name": "stdout",
          "text": [
            "hello world\n"
          ]
        }
      ]
    },
    {
      "cell_type": "markdown",
      "source": [
        "#Print New Line"
      ],
      "metadata": {
        "id": "WEyEllUwM_Vb"
      }
    },
    {
      "cell_type": "code",
      "source": [
        "new = \"hello \\nworld\""
      ],
      "metadata": {
        "id": "fJ4o3lDC3Owx"
      },
      "execution_count": null,
      "outputs": []
    },
    {
      "cell_type": "code",
      "source": [
        "print(new)"
      ],
      "metadata": {
        "colab": {
          "base_uri": "https://localhost:8080/"
        },
        "id": "Dht_KYs_3aGq",
        "outputId": "6ba21fe0-1b22-405b-ac00-a1742d1f5006"
      },
      "execution_count": null,
      "outputs": [
        {
          "output_type": "stream",
          "name": "stdout",
          "text": [
            "hello \n",
            "world\n"
          ]
        }
      ]
    },
    {
      "cell_type": "markdown",
      "source": [
        "#Find Length"
      ],
      "metadata": {
        "id": "1w2RgPU8NDhD"
      }
    },
    {
      "cell_type": "code",
      "source": [
        "print(len(my_str))"
      ],
      "metadata": {
        "colab": {
          "base_uri": "https://localhost:8080/"
        },
        "id": "461GwvOU3c_f",
        "outputId": "d4d5b495-a308-419c-e5e3-05a53edaf80f"
      },
      "execution_count": null,
      "outputs": [
        {
          "output_type": "stream",
          "name": "stdout",
          "text": [
            "11\n"
          ]
        }
      ]
    },
    {
      "cell_type": "markdown",
      "source": [
        "#Indexing"
      ],
      "metadata": {
        "id": "BQZ5YZHcNGFO"
      }
    },
    {
      "cell_type": "code",
      "source": [
        "print(my_str[4])"
      ],
      "metadata": {
        "colab": {
          "base_uri": "https://localhost:8080/"
        },
        "id": "fCYK7sQZ3p4F",
        "outputId": "76de7e79-b8cc-4187-b528-4ed29b1c6cd3"
      },
      "execution_count": null,
      "outputs": [
        {
          "output_type": "stream",
          "name": "stdout",
          "text": [
            "o\n"
          ]
        }
      ]
    },
    {
      "cell_type": "code",
      "source": [
        "print(my_str[-1])"
      ],
      "metadata": {
        "colab": {
          "base_uri": "https://localhost:8080/"
        },
        "id": "OgOdRaBV4elz",
        "outputId": "0e9e6215-92b4-4931-ea63-4db3849082f9"
      },
      "execution_count": null,
      "outputs": [
        {
          "output_type": "stream",
          "name": "stdout",
          "text": [
            "d\n"
          ]
        }
      ]
    },
    {
      "cell_type": "markdown",
      "source": [
        "#Built-in Function Apply"
      ],
      "metadata": {
        "id": "KYMtdrXzNIWS"
      }
    },
    {
      "cell_type": "code",
      "source": [
        "capital = my_str.upper()\n",
        "print(capital)"
      ],
      "metadata": {
        "colab": {
          "base_uri": "https://localhost:8080/"
        },
        "id": "gZ-o52Xy4k6E",
        "outputId": "4d7b5e9a-ae7b-45c2-a7c0-1232a6b5b807"
      },
      "execution_count": null,
      "outputs": [
        {
          "output_type": "stream",
          "name": "stdout",
          "text": [
            "HELLO WORLD\n"
          ]
        }
      ]
    },
    {
      "cell_type": "code",
      "source": [
        "lower = my_str.lower()\n",
        "print(lower)"
      ],
      "metadata": {
        "colab": {
          "base_uri": "https://localhost:8080/"
        },
        "id": "WAqkxsTV5LYB",
        "outputId": "d9a22cc8-605b-4b52-f20f-9071f1f9c5bd"
      },
      "execution_count": null,
      "outputs": [
        {
          "output_type": "stream",
          "name": "stdout",
          "text": [
            "hello world\n"
          ]
        }
      ]
    },
    {
      "cell_type": "markdown",
      "source": [
        "#String Formating"
      ],
      "metadata": {
        "id": "_m0ZbxIyNO25"
      }
    },
    {
      "cell_type": "code",
      "source": [
        "name = \"David\""
      ],
      "metadata": {
        "id": "3K37t5Zu5WjL"
      },
      "execution_count": null,
      "outputs": []
    },
    {
      "cell_type": "code",
      "source": [
        "print(\"my name is David\")"
      ],
      "metadata": {
        "colab": {
          "base_uri": "https://localhost:8080/"
        },
        "id": "qJKHxtyj5hkh",
        "outputId": "e1e4a1b1-bdb1-4c42-dd87-3a433ddb719d"
      },
      "execution_count": null,
      "outputs": [
        {
          "output_type": "stream",
          "name": "stdout",
          "text": [
            "my name is David\n"
          ]
        }
      ]
    },
    {
      "cell_type": "code",
      "source": [
        "print(\"my name is {}\".format(name))"
      ],
      "metadata": {
        "colab": {
          "base_uri": "https://localhost:8080/"
        },
        "id": "nhaaaA7h5n65",
        "outputId": "ba17f314-2a0d-4c75-de86-2df70513f4d3"
      },
      "execution_count": null,
      "outputs": [
        {
          "output_type": "stream",
          "name": "stdout",
          "text": [
            "my name is David\n"
          ]
        }
      ]
    },
    {
      "cell_type": "code",
      "source": [
        "print(f\"my name is {name}\")"
      ],
      "metadata": {
        "colab": {
          "base_uri": "https://localhost:8080/"
        },
        "id": "Hk3tRZdq6Bdj",
        "outputId": "a15fa75c-3dc9-4fe6-f385-6472587a80f0"
      },
      "execution_count": null,
      "outputs": [
        {
          "output_type": "stream",
          "name": "stdout",
          "text": [
            "my name is David\n"
          ]
        }
      ]
    }
  ]
}