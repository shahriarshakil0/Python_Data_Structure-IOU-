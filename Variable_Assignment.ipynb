{
  "nbformat": 4,
  "nbformat_minor": 0,
  "metadata": {
    "colab": {
      "name": "Variable Assignment.ipynb",
      "provenance": [],
      "collapsed_sections": []
    },
    "kernelspec": {
      "name": "python3",
      "display_name": "Python 3"
    },
    "language_info": {
      "name": "python"
    }
  },
  "cells": [
    {
      "cell_type": "markdown",
      "source": [
        "#Declare Variable"
      ],
      "metadata": {
        "id": "ioCWP6--Lfs5"
      }
    },
    {
      "cell_type": "code",
      "execution_count": null,
      "metadata": {
        "id": "E8k5DuhCUPE3",
        "colab": {
          "base_uri": "https://localhost:8080/"
        },
        "outputId": "8b83154c-9095-49fb-e045-8f27bb83b622"
      },
      "outputs": [
        {
          "output_type": "stream",
          "name": "stdout",
          "text": [
            "10\n"
          ]
        }
      ],
      "source": [
        "num1 = 10\n",
        "print(num1)"
      ]
    },
    {
      "cell_type": "code",
      "source": [
        "num2 = 15\n",
        "add = num1+num2\n",
        "print(add)"
      ],
      "metadata": {
        "colab": {
          "base_uri": "https://localhost:8080/"
        },
        "id": "b-35Yd8NsDrT",
        "outputId": "fc550e7d-5e55-4b98-9fa6-fd0038dddd85"
      },
      "execution_count": null,
      "outputs": [
        {
          "output_type": "stream",
          "name": "stdout",
          "text": [
            "25\n"
          ]
        }
      ]
    },
    {
      "cell_type": "markdown",
      "source": [
        "#Take User Input"
      ],
      "metadata": {
        "id": "-YOpcPsKLjcS"
      }
    },
    {
      "cell_type": "code",
      "source": [
        "num3 = input(\"Enter a number: \")"
      ],
      "metadata": {
        "colab": {
          "base_uri": "https://localhost:8080/"
        },
        "id": "CIzLep3KsQwS",
        "outputId": "86ee4970-d9d2-41cc-a9c0-73c168fc5574"
      },
      "execution_count": null,
      "outputs": [
        {
          "name": "stdout",
          "output_type": "stream",
          "text": [
            "Enter a number: 20\n"
          ]
        }
      ]
    },
    {
      "cell_type": "code",
      "source": [
        "print(num3)"
      ],
      "metadata": {
        "colab": {
          "base_uri": "https://localhost:8080/"
        },
        "id": "2TLIEwGOsgjY",
        "outputId": "c28b2dea-9bd5-4dc1-a5c1-57a8824067bd"
      },
      "execution_count": null,
      "outputs": [
        {
          "output_type": "stream",
          "name": "stdout",
          "text": [
            "20\n"
          ]
        }
      ]
    },
    {
      "cell_type": "code",
      "source": [
        "my_str = \"Python\""
      ],
      "metadata": {
        "id": "pfkNhSQusnyd"
      },
      "execution_count": null,
      "outputs": []
    },
    {
      "cell_type": "markdown",
      "source": [
        "#Use Type Function"
      ],
      "metadata": {
        "id": "K2atQiCiLpqB"
      }
    },
    {
      "cell_type": "code",
      "source": [
        "print(type(my_str))"
      ],
      "metadata": {
        "colab": {
          "base_uri": "https://localhost:8080/"
        },
        "id": "tRukazJas3wh",
        "outputId": "92da3b44-ee86-44fe-92c4-6080ad6936a6"
      },
      "execution_count": null,
      "outputs": [
        {
          "output_type": "stream",
          "name": "stdout",
          "text": [
            "<class 'str'>\n"
          ]
        }
      ]
    },
    {
      "cell_type": "code",
      "source": [
        ""
      ],
      "metadata": {
        "id": "A3Trp8sUs_Cr"
      },
      "execution_count": null,
      "outputs": []
    }
  ]
}